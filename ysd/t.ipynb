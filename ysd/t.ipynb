{
 "cells": [
  {
   "cell_type": "code",
   "execution_count": 27,
   "metadata": {},
   "outputs": [],
   "source": [
    "from wordle import check\n",
    "\n",
    "def test(e, a, p, c):\n",
    "    try:\n",
    "        r = check(e, a, p)\n",
    "        res = 'Y' if r[0] == 0 and r[1] else 'N'\n",
    "        assert res == c, f'Exp: {c} Act: {res}'\n",
    "    except:\n",
    "        print(r)\n",
    "        raise"
   ]
  },
  {
   "cell_type": "code",
   "execution_count": 26,
   "metadata": {},
   "outputs": [],
   "source": [
    "test('aabbb', 'acaaa', 'GWYWW', 'Y')\n",
    "test('aabbb', 'acaaa', 'GWWYW', 'Y')\n",
    "test('aabbb', 'acaaa', 'GWWWY', 'Y')\n",
    "test('aabbb', 'acaaa', 'GWYWY', 'N')\n",
    "test('aabbb', 'acaaa', 'GWYYY', 'N')\n",
    "test('aabbb', 'acaaa', 'GWWYY', 'N')\n",
    "test('aabbb', 'acaaa', 'GWWWW', 'N')\n",
    "test('aabbb', 'acaaa', 'GWYYY', 'N')\n",
    "test('aaabc', 'fghia', 'WWWWY', 'Y')"
   ]
  }
 ],
 "metadata": {
  "interpreter": {
   "hash": "92bb501d01ed6694a344d8840400c42ba72134da389a6685584743cfd71bbc26"
  },
  "kernelspec": {
   "display_name": "Python 3.9.2 64-bit",
   "language": "python",
   "name": "python3"
  },
  "language_info": {
   "codemirror_mode": {
    "name": "ipython",
    "version": 3
   },
   "file_extension": ".py",
   "mimetype": "text/x-python",
   "name": "python",
   "nbconvert_exporter": "python",
   "pygments_lexer": "ipython3",
   "version": "3.9.2"
  },
  "orig_nbformat": 4
 },
 "nbformat": 4,
 "nbformat_minor": 2
}
