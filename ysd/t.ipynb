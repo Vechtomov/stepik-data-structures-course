{
 "cells": [
  {
   "cell_type": "code",
   "execution_count": 1,
   "metadata": {},
   "outputs": [],
   "source": [
    "from wordle import check\n",
    "\n",
    "def test(e, a, p, c):\n",
    "    try:\n",
    "        r = check(e, a, p)\n",
    "        res = 'Y' if r[0] == 0 and r[1] else 'N'\n",
    "        assert res == c, f'Exp: {c} Act: {res}'\n",
    "    except:\n",
    "        print(r)\n",
    "        raise"
   ]
  },
  {
   "cell_type": "code",
   "execution_count": 3,
   "metadata": {},
   "outputs": [],
   "source": [
    "test('aabbb', 'acaaa', 'GWYWW', 'Y')\n",
    "test('aabbb', 'acaaa', 'GWWYW', 'Y')\n",
    "test('aabbb', 'acaaa', 'GWWWY', 'Y')\n",
    "test('aabbb', 'acaaa', 'GWYWY', 'N')\n",
    "test('aabbb', 'acaaa', 'GWYYY', 'N')\n",
    "test('aabbb', 'acaaa', 'GWWYY', 'N')\n",
    "test('aabbb', 'acaaa', 'GWWWW', 'N')\n",
    "test('aabbb', 'acaaa', 'GWYYY', 'N')\n",
    "test('aaabc', 'fghia', 'WWWWY', 'Y')\n",
    "test('aabbb', 'acaaa', 'WWYWW', 'N')"
   ]
  },
  {
   "cell_type": "code",
   "execution_count": 4,
   "metadata": {},
   "outputs": [
    {
     "data": {
      "text/plain": [
       "81"
      ]
     },
     "execution_count": 4,
     "metadata": {},
     "output_type": "execute_result"
    }
   ],
   "source": [
    "27*3"
   ]
  },
  {
   "cell_type": "code",
   "execution_count": 5,
   "metadata": {},
   "outputs": [
    {
     "data": {
      "text/plain": [
       "-1257"
      ]
     },
     "execution_count": 5,
     "metadata": {},
     "output_type": "execute_result"
    }
   ],
   "source": [
    "a = 15\n",
    "b = 8\n",
    "c = 13\n",
    "-3*(a*b+a*c+b*c)"
   ]
  },
  {
   "cell_type": "code",
   "execution_count": 2,
   "metadata": {},
   "outputs": [
    {
     "data": {
      "text/plain": [
       "[<matplotlib.lines.Line2D at 0x191ffe8fd00>]"
      ]
     },
     "execution_count": 2,
     "metadata": {},
     "output_type": "execute_result"
    },
    {
     "data": {
      "image/png": "[encoded data removed]",
      "text/plain": [
       "<Figure size 432x288 with 1 Axes>"
      ]
     },
     "metadata": {
      "needs_background": "light"
     },
     "output_type": "display_data"
    }
   ],
   "source": [
    "import numpy as np\n",
    "import matplotlib.pyplot as plt\n",
    "\n",
    "# range from 0 to 10 in steps of 0.1\n",
    "x_a = np.arange(0, 10, 0.001)\n",
    "y_a = (10 - x_a) / 9 + np.sqrt(5**2 + x_a**2) / 3\n",
    "plt.plot(x_a, y_a)"
   ]
  },
  {
   "cell_type": "code",
   "execution_count": 3,
   "metadata": {},
   "outputs": [
    {
     "data": {
      "text/plain": [
       "1.768"
      ]
     },
     "execution_count": 3,
     "metadata": {},
     "output_type": "execute_result"
    }
   ],
   "source": [
    "a = x_a[np.argmin(y_a)]\n",
    "a"
   ]
  },
  {
   "cell_type": "code",
   "execution_count": 4,
   "metadata": {},
   "outputs": [
    {
     "data": {
      "text/plain": [
       "[<matplotlib.lines.Line2D at 0x191fff75fa0>]"
      ]
     },
     "execution_count": 4,
     "metadata": {},
     "output_type": "execute_result"
    },
    {
     "data": {
      "image/png": "[encoded data removed]",
      "text/plain": [
       "<Figure size 432x288 with 1 Axes>"
      ]
     },
     "metadata": {
      "needs_background": "light"
     },
     "output_type": "display_data"
    }
   ],
   "source": [
    "x_b = np.arange(0, 2, 0.001)\n",
    "y_b = (65 - x_b) / 80 + np.sqrt(5**2 + x_b**2) / 3\n",
    "plt.plot(x_b, y_b)"
   ]
  },
  {
   "cell_type": "code",
   "execution_count": 5,
   "metadata": {},
   "outputs": [
    {
     "data": {
      "text/plain": [
       "0.188"
      ]
     },
     "execution_count": 5,
     "metadata": {},
     "output_type": "execute_result"
    }
   ],
   "source": [
    "b = x_b[np.argmin(y_b)]\n",
    "b"
   ]
  },
  {
   "cell_type": "code",
   "execution_count": 6,
   "metadata": {},
   "outputs": [
    {
     "data": {
      "text/plain": [
       "(1.768, 0.188)"
      ]
     },
     "execution_count": 6,
     "metadata": {},
     "output_type": "execute_result"
    }
   ],
   "source": [
    "a, b"
   ]
  },
  {
   "cell_type": "code",
   "execution_count": 8,
   "metadata": {},
   "outputs": [
    {
     "data": {
      "text/plain": [
       "5.1604538991596804"
      ]
     },
     "execution_count": 8,
     "metadata": {},
     "output_type": "execute_result"
    }
   ],
   "source": [
    "np.min(y_a) + np.min(y_b) "
   ]
  }
 ],
 "metadata": {
  "interpreter": {
   "hash": "92bb501d01ed6694a344d8840400c42ba72134da389a6685584743cfd71bbc26"
  },
  "kernelspec": {
   "display_name": "Python 3.9.2 64-bit",
   "language": "python",
   "name": "python3"
  },
  "language_info": {
   "codemirror_mode": {
    "name": "ipython",
    "version": 3
   },
   "file_extension": ".py",
   "mimetype": "text/x-python",
   "name": "python",
   "nbconvert_exporter": "python",
   "pygments_lexer": "ipython3",
   "version": "3.9.2"
  },
  "orig_nbformat": 4
 },
 "nbformat": 4,
 "nbformat_minor": 2
}
