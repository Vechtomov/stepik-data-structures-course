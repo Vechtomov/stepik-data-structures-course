{
 "cells": [
  {
   "cell_type": "code",
   "execution_count": null,
   "metadata": {},
   "outputs": [],
   "source": [
    "from additional.nearest_larger_item import solution_minheap, solution_stack\n",
    "a = [3, 2, 1, 4]\n",
    "r1 = solution_minheap(a)\n",
    "r2 = solution_stack(a)\n",
    "assert r1 == r2\n"
   ]
  },
  {
   "cell_type": "code",
   "execution_count": null,
   "metadata": {},
   "outputs": [],
   "source": [
    "a = [1, 2, 3]\n",
    "a.pop()\n"
   ]
  },
  {
   "cell_type": "code",
   "execution_count": null,
   "metadata": {},
   "outputs": [],
   "source": [
    "from additional.robot_up_right import solution_bottom_up, solution_top_down\n",
    "assert solution_bottom_up(5, 4) == solution_top_down(5, 4)\n"
   ]
  },
  {
   "cell_type": "code",
   "execution_count": null,
   "metadata": {},
   "outputs": [],
   "source": [
    "from lesson3.n2_hash_chains import Hash\n",
    "h = Hash(5)\n",
    "h('Hell0'), h('world'), h('luck'), h('GooD'), h('Hell0'), h('GooD')\n"
   ]
  },
  {
   "cell_type": "code",
   "execution_count": null,
   "metadata": {},
   "outputs": [],
   "source": [
    "h.powers\n"
   ]
  },
  {
   "cell_type": "code",
   "execution_count": null,
   "metadata": {},
   "outputs": [],
   "source": [
    "[ord(c) for c in 'Hell0']\n"
   ]
  },
  {
   "cell_type": "code",
   "execution_count": null,
   "metadata": {},
   "outputs": [],
   "source": [
    "p = 1000000007\n",
    "x = 263\n",
    "powers = [263**i % 1000000007 for i in range(5)]\n",
    "(72 + (111*powers[1]) + (114 * powers[2]) +\n",
    " (108 * powers[3]) + 100 * powers[4]) % 5\n"
   ]
  },
  {
   "cell_type": "code",
   "execution_count": null,
   "metadata": {},
   "outputs": [],
   "source": [
    "sum([(ord(ch)*h.powers[i]) for i, ch in enumerate('hell0')]) % 5\n"
   ]
  },
  {
   "cell_type": "code",
   "execution_count": null,
   "metadata": {},
   "outputs": [],
   "source": [
    "from lesson3.n3_pattern_in_text import solve, Hash\n",
    "\n",
    "assert solve('aba', 'aba') == [0]\n",
    "assert solve('abacaba', 'aba') == [0, 4]\n",
    "assert solve('ababacaba', 'aba') == [0, 2, 6]\n",
    "assert solve('testTesttesT', 'Test') == [4]\n",
    "assert solve('baaaaaaa', 'aaaaa') == [1, 2, 3]\n",
    "\n",
    "h = Hash(x=500)\n",
    "s = 'hello'\n",
    "old_hash = h(s)\n",
    "ns = 'ellow'\n",
    "assert h.get_new_hash(len(s), s[0], ns[-1], old_hash) == h(ns)\n"
   ]
  },
  {
   "cell_type": "code",
   "execution_count": null,
   "metadata": {},
   "outputs": [],
   "source": [
    "from lesson4.n4_tree import Tree, Node, merge_trees, split_tree\n",
    "from typing import List, Tuple, Union, Callable\n",
    "\n",
    "NodeT = Tuple[int, Union[int, None]]\n",
    "InOrderResult = List[NodeT]\n",
    "\n",
    "def in_order(node: Node):\n",
    "    if node is None:\n",
    "        return\n",
    "    for n in in_order(node.l):\n",
    "        yield n\n",
    "    yield node\n",
    "    for n in in_order(node.r):\n",
    "        yield n\n",
    "\n",
    "\n",
    "def show_tree(tree: Tree):\n",
    "    for n in in_order(tree.root):\n",
    "        h = max(n.lh, n.rh)\n",
    "        print(''.join(['\\t']*h), repr(n))\n",
    "\n",
    "\n",
    "def test_tree(t: Tree, result: InOrderResult):\n",
    "    transform: Callable[[Node], NodeT] = lambda n: (\n",
    "        n.k, n.p.k if n.p else None)\n",
    "    actual = list(map(transform, in_order(t.root)))\n",
    "    assert actual == result\n",
    "\n",
    "\n",
    "def build_tree(nodes):\n",
    "    t = Tree()\n",
    "    for i in nodes:\n",
    "        t.add(i)\n",
    "    return t\n",
    "\n",
    "\n",
    "def build_n_tree(n):\n",
    "    return build_tree(list(range(n)))\n"
   ]
  },
  {
   "cell_type": "code",
   "execution_count": null,
   "metadata": {},
   "outputs": [],
   "source": [
    "def test_tree_add():\n",
    "    def test(nodes, result: InOrderResult):\n",
    "        test_tree(build_tree(nodes), result)\n",
    "\n",
    "    test([1], [(1, None)])\n",
    "    test([1, 2], [(1, None), (2, 1)])\n",
    "    test([2, 1], [(1, 2), (2, None)])\n",
    "    # right small rotation\n",
    "    test([1, 2, 3], [(1, 2), (2, None), (3, 2)])\n",
    "    # left small rotation\n",
    "    test([3, 2, 1], [(1, 2), (2, None), (3, 2)])\n",
    "    # left big rotation\n",
    "    test([4, 5, 1, 0, 2, 3], [(0, 1), (1, 2), (2, None), (3, 4), (4, 2), (5, 4)])\n",
    "    # right big rotation\n",
    "    test([1, 0, 4, 5, 3, 2], [(0, 1), (1, 3), (2, 1), (3, None), (4, 3), (5, 4)])\n",
    "\n",
    "\n",
    "def test_tree_remove():\n",
    "    def test(nodes: List[int], remove_node: int, result):\n",
    "        t = build_tree(nodes)\n",
    "        t.remove(remove_node)\n",
    "        test_tree(t, result)\n",
    "\n",
    "    test([0], 0, [])\n",
    "    test([0, 1], 0, [(1, None)])\n",
    "    test([0, 1, 2], 1, [(0, None), (2, 0)])\n",
    "\n",
    "    nodes = list(range(5))\n",
    "    test(nodes, 0, [(1, 3), (2, 1), (3, None), (4, 3)])\n",
    "    test(nodes, 1, [(0, 3), (2, 0), (3, None), (4, 3)])\n",
    "    test(nodes, 2, [(0, 1), (1, None), (3, 1), (4, 3)])\n",
    "    test(nodes, 3, [(0, 1), (1, None), (2, 1), (4, 2)])\n",
    "    test(nodes, 4, [(0, 1), (1, None), (2, 3), (3, 1)])\n",
    "\n",
    "\n",
    "def test_tree_merge():\n",
    "    def test(nodes1: Tree, nodes2: Tree, result: InOrderResult):\n",
    "        t1 = build_tree(nodes1)\n",
    "        t2 = build_tree(nodes2)\n",
    "        t = merge_trees(t1, t2)\n",
    "        test_tree(t, result)\n",
    "\n",
    "    test([1], [2], [(1, 2), (2, None)])\n",
    "    test([1], [2, 3], [(1, 2), (2, None), (3, 2)])\n",
    "    test([1, 2], [3, 4], [(1, 3), (2, 1), (3, None), (4, 3)])\n",
    "    test([1], [4, 5, 3, 2], [(1, 2), (2, 4), (3, 2), (4, None), (5, 4)])\n",
    "\n",
    "\n",
    "test_tree_add()\n",
    "test_tree_remove()\n",
    "test_tree_merge()\n"
   ]
  },
  {
   "cell_type": "code",
   "execution_count": null,
   "metadata": {},
   "outputs": [],
   "source": [
    "t1 = build_tree([1])\n",
    "t2 = build_tree([4, 5, 3, 2])\n",
    "show_tree(t2)\n",
    "# t.remove(4)\n",
    "t = merge_trees(t1, t2)\n",
    "show_tree(t)"
   ]
  }
 ],
 "metadata": {
  "interpreter": {
   "hash": "92bb501d01ed6694a344d8840400c42ba72134da389a6685584743cfd71bbc26"
  },
  "kernelspec": {
   "display_name": "Python 3.9.2 64-bit",
   "language": "python",
   "name": "python3"
  },
  "language_info": {
   "codemirror_mode": {
    "name": "ipython",
    "version": 3
   },
   "file_extension": ".py",
   "mimetype": "text/x-python",
   "name": "python",
   "nbconvert_exporter": "python",
   "pygments_lexer": "ipython3",
   "version": "3.9.2"
  },
  "orig_nbformat": 4
 },
 "nbformat": 4,
 "nbformat_minor": 2
}
