{
 "cells": [
  {
   "cell_type": "code",
   "execution_count": null,
   "metadata": {},
   "outputs": [],
   "source": [
    "from additional.nearest_larger_item import solution_minheap, solution_stack\n",
    "a = [3, 2, 1, 4]\n",
    "r1 = solution_minheap(a)\n",
    "r2 = solution_stack(a)\n",
    "assert r1 == r2\n"
   ]
  },
  {
   "cell_type": "code",
   "execution_count": null,
   "metadata": {},
   "outputs": [],
   "source": [
    "a = [1, 2, 3]\n",
    "a.pop()\n"
   ]
  },
  {
   "cell_type": "code",
   "execution_count": null,
   "metadata": {},
   "outputs": [],
   "source": [
    "from additional.robot_up_right import solution_bottom_up, solution_top_down\n",
    "assert solution_bottom_up(5, 4) == solution_top_down(5, 4)\n"
   ]
  },
  {
   "cell_type": "code",
   "execution_count": null,
   "metadata": {},
   "outputs": [],
   "source": [
    "from lesson3.n2_hash_chains import Hash\n",
    "h = Hash(5)\n",
    "h('Hell0'), h('world'), h('luck'), h('GooD'), h('Hell0'), h('GooD')\n"
   ]
  },
  {
   "cell_type": "code",
   "execution_count": null,
   "metadata": {},
   "outputs": [],
   "source": [
    "h.powers\n"
   ]
  },
  {
   "cell_type": "code",
   "execution_count": null,
   "metadata": {},
   "outputs": [],
   "source": [
    "[ord(c) for c in 'Hell0']\n"
   ]
  },
  {
   "cell_type": "code",
   "execution_count": null,
   "metadata": {},
   "outputs": [],
   "source": [
    "p = 1000000007\n",
    "x = 263\n",
    "powers = [263**i % 1000000007 for i in range(5)]\n",
    "(72 + (111*powers[1]) + (114 * powers[2]) +\n",
    " (108 * powers[3]) + 100 * powers[4]) % 5\n"
   ]
  },
  {
   "cell_type": "code",
   "execution_count": null,
   "metadata": {},
   "outputs": [],
   "source": [
    "sum([(ord(ch)*h.powers[i]) for i, ch in enumerate('hell0')]) % 5\n"
   ]
  },
  {
   "cell_type": "code",
   "execution_count": null,
   "metadata": {},
   "outputs": [],
   "source": [
    "from lesson3.n3_pattern_in_text import solve, Hash\n",
    "\n",
    "assert solve('aba', 'aba') == [0]\n",
    "assert solve('abacaba', 'aba') == [0, 4]\n",
    "assert solve('ababacaba', 'aba') == [0, 2, 6]\n",
    "assert solve('testTesttesT', 'Test') == [4]\n",
    "assert solve('baaaaaaa', 'aaaaa') == [1, 2, 3]\n",
    "\n",
    "h = Hash(x=500)\n",
    "s = 'hello'\n",
    "old_hash = h(s)\n",
    "ns = 'ellow'\n",
    "assert h.get_new_hash(len(s), s[0], ns[-1], old_hash) == h(ns)\n"
   ]
  }
 ],
 "metadata": {
  "interpreter": {
   "hash": "87ca4934905532d15cbd0e1b39f8ec7c82379aae06d4434255c4ab2516c6087a"
  },
  "kernelspec": {
   "display_name": "Python 3.9.2 64-bit",
   "language": "python",
   "name": "python3"
  },
  "language_info": {
   "codemirror_mode": {
    "name": "ipython",
    "version": 3
   },
   "file_extension": ".py",
   "mimetype": "text/x-python",
   "name": "python",
   "nbconvert_exporter": "python",
   "pygments_lexer": "ipython3",
   "version": "3.9.2"
  },
  "orig_nbformat": 4
 },
 "nbformat": 4,
 "nbformat_minor": 2
}
