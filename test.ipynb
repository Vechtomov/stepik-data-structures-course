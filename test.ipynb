{
 "cells": [
  {
   "cell_type": "code",
   "execution_count": null,
   "metadata": {},
   "outputs": [],
   "source": [
    "from additional.nearest_larger_item import solution_minheap, solution_stack\n",
    "a = [3,2,1,4]\n",
    "r1 = solution_minheap(a)\n",
    "r2 = solution_stack(a)\n",
    "assert r1 == r2"
   ]
  },
  {
   "cell_type": "code",
   "execution_count": null,
   "metadata": {},
   "outputs": [],
   "source": [
    "a = [1,2,3]\n",
    "a.pop()"
   ]
  },
  {
   "cell_type": "code",
   "execution_count": null,
   "metadata": {},
   "outputs": [],
   "source": [
    "from additional.robot_up_right import solution_bottom_up, solution_top_down\n",
    "assert solution_bottom_up(5,4) == solution_top_down(5,4)"
   ]
  },
  {
   "cell_type": "code",
   "execution_count": null,
   "metadata": {},
   "outputs": [],
   "source": [
    "from lesson3.n2_hash_chains import Hash\n",
    "h = Hash(5)\n",
    "h('Hell0'), h('world'), h('luck'), h('GooD'), h('Hell0'), h('GooD')"
   ]
  },
  {
   "cell_type": "code",
   "execution_count": null,
   "metadata": {},
   "outputs": [],
   "source": [
    "h.powers"
   ]
  },
  {
   "cell_type": "code",
   "execution_count": null,
   "metadata": {},
   "outputs": [],
   "source": [
    "[ord(c) for c in 'Hell0']"
   ]
  },
  {
   "cell_type": "code",
   "execution_count": null,
   "metadata": {},
   "outputs": [],
   "source": [
    "p = 1000000007\n",
    "x = 263\n",
    "powers = [263**i % 1000000007 for i in range(5)]\n",
    "(72 + (111*powers[1]) + (114 * powers[2]) + (108 * powers[3]) + 100 * powers[4]) % 5"
   ]
  },
  {
   "cell_type": "code",
   "execution_count": null,
   "metadata": {},
   "outputs": [],
   "source": [
    "sum([(ord(ch)*h.powers[i]) for i, ch in enumerate('hell0')]) % 5"
   ]
  },
  {
   "cell_type": "code",
   "execution_count": null,
   "metadata": {},
   "outputs": [],
   "source": [
    "from lesson3.n3_pattern_in_text import solve, Hash\n",
    "\n",
    "assert solve('aba', 'aba') == [0]\n",
    "assert solve('abacaba', 'aba') == [0,4]\n",
    "assert solve('ababacaba', 'aba') == [0,2,6]\n",
    "assert solve('testTesttesT', 'Test') == [4]\n",
    "assert solve('baaaaaaa', 'aaaaa') == [1,2,3]\n",
    "\n",
    "h = Hash(x=500)\n",
    "s = 'hello'\n",
    "old_hash = h(s)\n",
    "ns = 'ellow'\n",
    "assert h.get_new_hash(len(s), s[0], ns[-1], old_hash) == h(ns)"
   ]
  },
  {
   "cell_type": "code",
   "execution_count": 6,
   "metadata": {},
   "outputs": [],
   "source": [
    "from lesson4.n4_tree import Tree, Node\n",
    "\n",
    "\n",
    "def in_order(node: Node):\n",
    "    if node is None:\n",
    "        return\n",
    "    for n in in_order(node.l):\n",
    "        yield n\n",
    "    yield node\n",
    "    for n in in_order(node.r):\n",
    "        yield n\n",
    "\n",
    "\n",
    "def show_tree(tree: Tree):\n",
    "    for n in in_order(tree.root):\n",
    "        h = max(n.lh, n.rh)\n",
    "        print(''.join(['\\t']*h), repr(n))\n",
    "\n",
    "\n",
    "def test_tree(t: Tree, result):\n",
    "    for exp, act in zip(result, in_order(t.root)):\n",
    "        assert exp == (act.k, act.p.k if act.p else None)\n",
    "\n",
    "\n",
    "def test_add_tree(nodes, result):\n",
    "    t = Tree()\n",
    "    for n in nodes:\n",
    "        t.add(n)\n",
    "    test_tree(t, result)\n"
   ]
  },
  {
   "cell_type": "code",
   "execution_count": 2,
   "metadata": {},
   "outputs": [],
   "source": [
    "test_add_tree([1], [(1, None)])\n",
    "test_add_tree([1, 2], [(1, None), (2, 1)])\n",
    "test_add_tree([2, 1], [(1, 2), (2, None)])\n",
    "test_add_tree([1, 2, 3], [(1, 2), (2, None), (3, 2)])  # right small rotation\n",
    "test_add_tree([3, 2, 1], [(1, 2), (2, None), (3, 2)])  # left small rotation\n",
    "test_add_tree([4, 5, 1, 0, 2, 3], [(0, 1), (1, 2), (2, None),\n",
    "              (3, 4), (4, 2), (5, 4)])  # left big rotation\n",
    "test_add_tree([1, 0, 4, 5, 3, 2], [(0, 1), (1, 3), (2, 1),\n",
    "              (3, None), (4, 3), (5, 4)])  # right big rotation\n"
   ]
  },
  {
   "cell_type": "code",
   "execution_count": 7,
   "metadata": {},
   "outputs": [
    {
     "name": "stdout",
     "output_type": "stream",
     "text": [
      "[0, 1, 2, 3, 4, 5, 6, 7, 8, 9, 10, 11, 12, 13, 14, 15]\n",
      " 0(1)\n",
      "\t 1(3)\n",
      " 2(1)\n",
      "\t\t 3(7)\n",
      " 4(5)\n",
      "\t 5(3)\n",
      " 6(5)\n",
      "\t\t\t\t 7(null)\n",
      " 8(9)\n",
      "\t 9(11)\n",
      " 10(9)\n",
      "\t\t\t 11(7)\n",
      " 12(13)\n",
      "\t\t 13(11)\n",
      "\t 14(13)\n",
      " 15(14)\n"
     ]
    }
   ],
   "source": [
    "import random\n",
    "t = Tree()\n",
    "nodes = list(range(16))\n",
    "# random.shuffle(nodes)\n",
    "print(nodes)\n",
    "for n in nodes:\n",
    "    t.add(n)\n",
    "show_tree(t)"
   ]
  }
 ],
 "metadata": {
  "interpreter": {
   "hash": "92bb501d01ed6694a344d8840400c42ba72134da389a6685584743cfd71bbc26"
  },
  "kernelspec": {
   "display_name": "Python 3.9.2 64-bit",
   "language": "python",
   "name": "python3"
  },
  "language_info": {
   "codemirror_mode": {
    "name": "ipython",
    "version": 3
   },
   "file_extension": ".py",
   "mimetype": "text/x-python",
   "name": "python",
   "nbconvert_exporter": "python",
   "pygments_lexer": "ipython3",
   "version": "3.9.2"
  },
  "orig_nbformat": 4
 },
 "nbformat": 4,
 "nbformat_minor": 2
}
