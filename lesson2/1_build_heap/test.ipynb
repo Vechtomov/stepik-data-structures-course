{
 "cells": [
  {
   "cell_type": "code",
   "execution_count": 1,
   "metadata": {},
   "outputs": [],
   "source": [
    "from build_heap import MinHeapSwapLogging\n",
    "h = MinHeapSwapLogging.build([5,4,3,2,1])\n",
    "h.check()"
   ]
  },
  {
   "cell_type": "code",
   "execution_count": 2,
   "metadata": {},
   "outputs": [
    {
     "data": {
      "text/plain": [
       "[0, 1, 2, 3, 4, 5]"
      ]
     },
     "execution_count": 2,
     "metadata": {},
     "output_type": "execute_result"
    }
   ],
   "source": [
    "a = list(map(int, \"0 1 2 3 4 5\".split()))\n",
    "h = MinHeapSwapLogging.build(a)\n",
    "h.check()\n",
    "h.arr"
   ]
  }
 ],
 "metadata": {
  "interpreter": {
   "hash": "92bb501d01ed6694a344d8840400c42ba72134da389a6685584743cfd71bbc26"
  },
  "kernelspec": {
   "display_name": "Python 3.9.2 64-bit",
   "language": "python",
   "name": "python3"
  },
  "language_info": {
   "codemirror_mode": {
    "name": "ipython",
    "version": 3
   },
   "file_extension": ".py",
   "mimetype": "text/x-python",
   "name": "python",
   "nbconvert_exporter": "python",
   "pygments_lexer": "ipython3",
   "version": "3.9.2"
  },
  "orig_nbformat": 4
 },
 "nbformat": 4,
 "nbformat_minor": 2
}
